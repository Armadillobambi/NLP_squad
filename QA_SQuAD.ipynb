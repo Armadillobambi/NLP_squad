{
  "nbformat": 4,
  "nbformat_minor": 0,
  "metadata": {
    "colab": {
      "provenance": [],
      "include_colab_link": true
    },
    "kernelspec": {
      "name": "python3",
      "display_name": "Python 3"
    },
    "language_info": {
      "name": "python"
    }
  },
  "cells": [
    {
      "cell_type": "markdown",
      "metadata": {
        "id": "view-in-github",
        "colab_type": "text"
      },
      "source": [
        "<a href=\"https://colab.research.google.com/github/Armadillobambi/NLP/blob/main/QA_SQuAD.ipynb\" target=\"_parent\"><img src=\"https://colab.research.google.com/assets/colab-badge.svg\" alt=\"Open In Colab\"/></a>"
      ]
    },
    {
      "cell_type": "code",
      "execution_count": null,
      "metadata": {
        "id": "rrCJUIYIM0qP"
      },
      "outputs": [],
      "source": [
        "!pip install pytorch-transformers\n",
        "import torch\n",
        "from transformers import pipeline\n",
        "from pytorch_transformers import RobertaTokenizer\n",
        "from pytorch_transformers import RobertaModel"
      ]
    },
    {
      "cell_type": "code",
      "source": [
        "from google.colab import drive\n",
        "drive.mount(\"/content/gdrive\")"
      ],
      "metadata": {
        "id": "ZOki1SpMSOiE",
        "colab": {
          "base_uri": "https://localhost:8080/"
        },
        "outputId": "8257418d-57d1-494f-ef66-a9631ef91081"
      },
      "execution_count": null,
      "outputs": [
        {
          "output_type": "stream",
          "name": "stdout",
          "text": [
            "Mounted at /content/gdrive\n"
          ]
        }
      ]
    }
  ]
}